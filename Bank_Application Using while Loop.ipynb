{
 "cells": [
  {
   "cell_type": "code",
   "execution_count": 1,
   "metadata": {},
   "outputs": [
    {
     "ename": "SyntaxError",
     "evalue": "'break' outside loop (<ipython-input-1-d6d324bcfe47>, line 79)",
     "output_type": "error",
     "traceback": [
      "\u001b[1;36m  File \u001b[1;32m\"<ipython-input-1-d6d324bcfe47>\"\u001b[1;36m, line \u001b[1;32m79\u001b[0m\n\u001b[1;33m    break\u001b[0m\n\u001b[1;37m    ^\u001b[0m\n\u001b[1;31mSyntaxError\u001b[0m\u001b[1;31m:\u001b[0m 'break' outside loop\n"
     ]
    }
   ],
   "source": [
    " from getpass import getpass\n",
    "D={\n",
    "    1001:{'name' : 'Ram','balance':50000,'password':'@123'},\n",
    "    1002:{'name' : 'Rahul','balance':60000,'password':'$123'},\n",
    "    1003:{'name' : 'Ritik','balance':25000,'password':'@453'},\n",
    "    1004:{'name' : 'Varun','balance':30000,'password':'@hello'}\n",
    "  }\n",
    "while True :\n",
    "    \n",
    "    print(\"Select a user choice:\")\n",
    "    print(\"1.login\")\n",
    "    print(\"2.signup\")\n",
    "    print(\"3.Exit\")\n",
    "    ch=input(\"enter user choice(1.2.3..):\")\n",
    "    if ch == '2' :\n",
    "        Name=input(\"enter name:\")\n",
    "        D.get(Name)\n",
    "        password=getpass(\"enter password: \")\n",
    "        Balance=int(input(\"enter initial balance:\"))\n",
    "        acc_no=int(input(\"enter account no.:\"))\n",
    "        print(f\"acc_no.=\",acc_no)\n",
    "        \n",
    "    elif ch =='1' :\n",
    "        acc_no=int(input(\"enter account no.:\"))\n",
    "        print(\"acc_no.:\",acc_no)\n",
    "        password=getpass(\"enter password:\")\n",
    "        data=D.get(acc_no,False)\n",
    "        if data :\n",
    "            if data.get('password') == password :\n",
    "                \n",
    "                print(\"Login Sucessfull\")\n",
    "                \n",
    "                while True :\n",
    "                    \n",
    "                    print(\"1.Debit\\n2.Credit\\n3.Check Balance\\n4.Logout\")\n",
    "                    ch1=input(\"enter choice (1..2..3..4..)\")\n",
    "                    if ch1 =='1' :\n",
    "                        \n",
    "                        amount=int(input(\"enter amount to debit:\" ))\n",
    "                        if D[acc_no]['balance'] >= amount :\n",
    "                            new_balance=D[acc_no]['balance'] - amount\n",
    "                            print(\"updated balance:\",new_balance)\n",
    "                        else :\n",
    "                            print(\"Insufficient balance!!\")\n",
    "                    elif ch1 == '2':\n",
    "                        amount=int(input(\"Enter amount to deposite:\"))\n",
    "                        new_balance=D[acc_no]['balance'] + amount\n",
    "                        print(\"Updated balance:\",new_balance)\n",
    "                        D.update('balance')\n",
    "                    elif ch1 == '3' :\n",
    "                        acc_no=int(input(\"enter account no.:\"))\n",
    "                        print(\"acc_no.:\",acc_no)\n",
    "                        password=getpass(\"enter password:\")\n",
    "                        data=D.get(acc_no,False)\n",
    "                        if data and data.get('password') == password :\n",
    "                            balance=data.get('balance')\n",
    "                        \n",
    "                            print(\"balance:\",balance)\n",
    "                        else :\n",
    "                            print(\"Invalid password and Account number!!\")\n",
    "                            print(\"Try Again !!\")\n",
    "                    else :\n",
    "                        print(\"Press logout key:\")\n",
    "                        print(\"Successfully logout:\")\n",
    "                        break\n",
    "                        \n",
    "                                \n",
    "                        \n",
    "                \n",
    "                \n",
    "            else : \n",
    "                print(\"Invalid Password !\")\n",
    "                print(\"Try Again !!\") \n",
    "        else : \n",
    "            print(\"Invalid Account Number\")\n",
    "            print(\"If you don't have any account please signup\")\n",
    "    else :\n",
    "        Exit()\n",
    "        break\n",
    "\n",
    "    \n",
    "            \n",
    "        \n",
    "                \n",
    "            \n",
    "        \n",
    "        \n",
    "    \n"
   ]
  },
  {
   "cell_type": "code",
   "execution_count": null,
   "metadata": {},
   "outputs": [],
   "source": [
    "# "
   ]
  },
  {
   "cell_type": "code",
   "execution_count": null,
   "metadata": {},
   "outputs": [],
   "source": [
    "print(dir(dict))"
   ]
  },
  {
   "cell_type": "code",
   "execution_count": null,
   "metadata": {},
   "outputs": [],
   "source": []
  },
  {
   "cell_type": "code",
   "execution_count": null,
   "metadata": {},
   "outputs": [],
   "source": []
  },
  {
   "cell_type": "raw",
   "metadata": {},
   "source": [
    "D={'user1':['name':'Ram','balance':50000,'acc_no.':612277345,'Password':@123],\n",
    "       'user2':['name':'Rahul','balance':60000,'acc_no.':612456344,'Password':@125],\n",
    "   'user3':['name':'Sandeep','balance':30000,'acc_no.':612288378,'Password':@156]"
   ]
  },
  {
   "cell_type": "code",
   "execution_count": null,
   "metadata": {},
   "outputs": [],
   "source": [
    "D={1001:{'name' : 'Ram','balance':50000,'Password':'@123'},\n",
    "    1002:{'name':'Rahul','balance':60000,'Password':'@125'},\n",
    "   1003:{'name':'Sandeep','balance':30000,'Password':'@156'}\n",
    "  }\n"
   ]
  },
  {
   "cell_type": "code",
   "execution_count": null,
   "metadata": {},
   "outputs": [],
   "source": [
    "\n"
   ]
  },
  {
   "cell_type": "code",
   "execution_count": null,
   "metadata": {},
   "outputs": [],
   "source": [
    "row=0\n",
    "while row <= 10:\n",
    "    col=0\n",
    "    while col<=10 :\n",
    "        if col <= 10-row :\n",
    "            print(\" \",end=\"\")\n",
    "        else :\n",
    "            print(\"*\",end=\"\")\n",
    "        col += 1\n",
    "    print()\n",
    "    row += 1\n",
    "            "
   ]
  },
  {
   "cell_type": "code",
   "execution_count": null,
   "metadata": {},
   "outputs": [],
   "source": []
  },
  {
   "cell_type": "markdown",
   "metadata": {},
   "source": [
    "# For loop\n"
   ]
  },
  {
   "cell_type": "code",
   "execution_count": null,
   "metadata": {},
   "outputs": [],
   "source": [
    "for char in \"python\" :\n",
    "    print(char)\n"
   ]
  },
  {
   "cell_type": "code",
   "execution_count": null,
   "metadata": {},
   "outputs": [],
   "source": [
    "my=[23,56,10,34,\"Hello\"]\n",
    "for item in my :\n",
    "    print(item)"
   ]
  },
  {
   "cell_type": "code",
   "execution_count": null,
   "metadata": {},
   "outputs": [],
   "source": [
    "while True:\n",
    "    try :\n",
    "        x=int(input(\"enter integer value:\"))\n",
    "        y=int(input(\"enter integer valiue:\"))\n",
    "        item=x/y\n",
    "        print(item)\n",
    "        break\n",
    "    except BaseException :\n",
    "        print(\"only integer\")\n",
    "    "
   ]
  },
  {
   "cell_type": "code",
   "execution_count": null,
   "metadata": {},
   "outputs": [],
   "source": [
    "s=\"python\"\n",
    "si=iter(s)\n",
    "while True:\n",
    "    try :\n",
    "        print(next(si))\n",
    "    except StopIteration :\n",
    "        break\n",
    "        "
   ]
  },
  {
   "cell_type": "code",
   "execution_count": null,
   "metadata": {},
   "outputs": [],
   "source": [
    "from random import randint\n",
    "l=[randint(1,15) for var in range(10)]\n",
    "print(l)\n",
    "r=[]\n",
    "for item in l:\n",
    "    r.append(item**2)\n",
    "print(l)\n",
    "print(r)\n"
   ]
  },
  {
   "cell_type": "code",
   "execution_count": null,
   "metadata": {},
   "outputs": [],
   "source": [
    "D={'name' : 'Ram','balance':50000,'acc_no.':612277345,'Password':'@123'}"
   ]
  },
  {
   "cell_type": "code",
   "execution_count": null,
   "metadata": {},
   "outputs": [],
   "source": [
    "D\n"
   ]
  },
  {
   "cell_type": "code",
   "execution_count": null,
   "metadata": {},
   "outputs": [],
   "source": [
    "for var in D:\n",
    "    print(var)"
   ]
  },
  {
   "cell_type": "code",
   "execution_count": null,
   "metadata": {},
   "outputs": [],
   "source": [
    "for value in D.values():\n",
    "    print(value)"
   ]
  },
  {
   "cell_type": "code",
   "execution_count": null,
   "metadata": {},
   "outputs": [],
   "source": [
    "for value in D.items():\n",
    "    print(value)"
   ]
  },
  {
   "cell_type": "code",
   "execution_count": null,
   "metadata": {},
   "outputs": [],
   "source": [
    "print(range.__doc__)"
   ]
  },
  {
   "cell_type": "code",
   "execution_count": null,
   "metadata": {},
   "outputs": [],
   "source": [
    "help(range)"
   ]
  },
  {
   "cell_type": "code",
   "execution_count": null,
   "metadata": {},
   "outputs": [],
   "source": [
    "for var in range(5):\n",
    "    print(var)"
   ]
  },
  {
   "cell_type": "code",
   "execution_count": null,
   "metadata": {},
   "outputs": [],
   "source": [
    "print(*range(-5,5))"
   ]
  },
  {
   "cell_type": "code",
   "execution_count": null,
   "metadata": {},
   "outputs": [],
   "source": [
    "num  =int(input(\"enter in num:\"))\n",
    "print(*range(num,num*10+1,num))"
   ]
  },
  {
   "cell_type": "code",
   "execution_count": null,
   "metadata": {},
   "outputs": [],
   "source": [
    "num=int(input(\"enter a num:\"))\n",
    "s=0\n",
    "e=1\n",
    "print(s,e,sep=', ',end=', ')\n",
    "for var in range(num) :\n",
    "    if (s+e<=num) :\n",
    "        print(s+e,end=', ')\n",
    "        s,e=e,s+e\n",
    "    else :\n",
    "        break\n"
   ]
  },
  {
   "cell_type": "code",
   "execution_count": null,
   "metadata": {},
   "outputs": [],
   "source": [
    "x=int(input(\"enter no:\"))\n",
    "y=int(input(\"enter no:\"))\n",
    "temp=x\n",
    "x=y\n",
    "y=temp\n",
    "print(x)\n",
    "print(y)"
   ]
  },
  {
   "cell_type": "code",
   "execution_count": null,
   "metadata": {},
   "outputs": [],
   "source": [
    "x=6\n",
    "y=5\n",
    "x=x+y\n",
    "y=x-y\n",
    "x=x-y\n",
    "print(x)\n",
    "print(y)"
   ]
  },
  {
   "cell_type": "markdown",
   "metadata": {},
   "source": [
    "# Fuctions\n"
   ]
  },
  {
   "cell_type": "code",
   "execution_count": null,
   "metadata": {},
   "outputs": [],
   "source": [
    "##Set of instruction to perform a specific task"
   ]
  },
  {
   "cell_type": "code",
   "execution_count": null,
   "metadata": {},
   "outputs": [],
   "source": [
    "import builtins\n",
    "print(dir(builtins))"
   ]
  },
  {
   "cell_type": "code",
   "execution_count": null,
   "metadata": {},
   "outputs": [],
   "source": [
    "l=[1,3,4,5,0,2,5,6]   #and\n",
    "all(l)"
   ]
  },
  {
   "cell_type": "code",
   "execution_count": null,
   "metadata": {},
   "outputs": [],
   "source": [
    "l=[] #or\n",
    "any(l)"
   ]
  },
  {
   "cell_type": "code",
   "execution_count": null,
   "metadata": {},
   "outputs": [],
   "source": [
    "m=[{},1,[]]\n",
    "any(m)"
   ]
  },
  {
   "cell_type": "code",
   "execution_count": null,
   "metadata": {},
   "outputs": [],
   "source": [
    "ascii('a')"
   ]
  },
  {
   "cell_type": "code",
   "execution_count": null,
   "metadata": {},
   "outputs": [],
   "source": [
    "chr(23)"
   ]
  },
  {
   "cell_type": "code",
   "execution_count": null,
   "metadata": {},
   "outputs": [],
   "source": [
    "chr(70)"
   ]
  },
  {
   "cell_type": "code",
   "execution_count": null,
   "metadata": {},
   "outputs": [],
   "source": [
    "[chr(var)for var in range (2309,2436)]\n",
    "\n",
    "\n",
    "    \n"
   ]
  },
  {
   "cell_type": "code",
   "execution_count": null,
   "metadata": {},
   "outputs": [],
   "source": [
    "bytes('hello',encoding='utf-8')"
   ]
  },
  {
   "cell_type": "code",
   "execution_count": null,
   "metadata": {},
   "outputs": [],
   "source": []
  }
 ],
 "metadata": {
  "kernelspec": {
   "display_name": "Python 3",
   "language": "python",
   "name": "python3"
  },
  "language_info": {
   "codemirror_mode": {
    "name": "ipython",
    "version": 3
   },
   "file_extension": ".py",
   "mimetype": "text/x-python",
   "name": "python",
   "nbconvert_exporter": "python",
   "pygments_lexer": "ipython3",
   "version": "3.6.4"
  }
 },
 "nbformat": 4,
 "nbformat_minor": 2
}
